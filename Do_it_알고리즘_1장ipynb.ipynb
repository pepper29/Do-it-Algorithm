{
  "nbformat": 4,
  "nbformat_minor": 0,
  "metadata": {
    "colab": {
      "provenance": [],
      "authorship_tag": "ABX9TyOBGGgPrbTx3LotHcJZCNpA",
      "include_colab_link": true
    },
    "kernelspec": {
      "name": "python3",
      "display_name": "Python 3"
    },
    "language_info": {
      "name": "python"
    }
  },
  "cells": [
    {
      "cell_type": "markdown",
      "metadata": {
        "id": "view-in-github",
        "colab_type": "text"
      },
      "source": [
        "<a href=\"https://colab.research.google.com/github/pepper29/Do-it-Algorithm/blob/main/Do_it_%EC%95%8C%EA%B3%A0%EB%A6%AC%EC%A6%98_1%EC%9E%A5ipynb.ipynb\" target=\"_parent\"><img src=\"https://colab.research.google.com/assets/colab-badge.svg\" alt=\"Open In Colab\"/></a>"
      ]
    },
    {
      "cell_type": "code",
      "source": [
        "# 실습 1-12\n",
        "# + 와 - 반복해서 출력\n",
        "\n",
        "print('+와-를 번갈아 출력')\n",
        "n = int(input('numbers: '))\n",
        "\n",
        "for i in range(n):\n",
        "  if i % 2: # 홀수일 때\n",
        "    print('-', end='')\n",
        "  else:\n",
        "    print('+', end='')\n",
        "\n",
        "print()"
      ],
      "metadata": {
        "colab": {
          "base_uri": "https://localhost:8080/"
        },
        "id": "5AdMbmVPX1MP",
        "outputId": "8721a006-319e-4652-b283-0dcc906a3950"
      },
      "execution_count": null,
      "outputs": [
        {
          "output_type": "stream",
          "name": "stdout",
          "text": [
            "+와-를 번갈아 출력\n",
            "numbers: 9\n",
            "+-+-+-+-+\n"
          ]
        }
      ]
    },
    {
      "cell_type": "code",
      "source": [
        "#  실습 1-13\n",
        "print('+와-를 번갈아 출력')\n",
        "n = int(input('numbers: '))\n",
        "\n",
        "for _ in range(n // 2):\n",
        "  print('+-', end='')  # +를 - // 2개의 출력\n",
        "\n",
        "if n % 2:\n",
        "  print('+', end='')\n",
        "print()"
      ],
      "metadata": {
        "colab": {
          "base_uri": "https://localhost:8080/"
        },
        "id": "6jmkhVn3X2af",
        "outputId": "28aefa66-4fa9-4b35-9ebe-5061680eb278"
      },
      "execution_count": null,
      "outputs": [
        {
          "output_type": "stream",
          "name": "stdout",
          "text": [
            "+와-를 번갈아 출력\n",
            "numbers: 12\n",
            "+-+-+-+-+-+-\n"
          ]
        }
      ]
    },
    {
      "cell_type": "code",
      "source": [
        "# 실습 1-14\n",
        "# *을 n개 출력하되 w개마다 줄바꿈\n",
        "\n",
        "print('별을 출력합니다.')\n",
        "n = int(input('몇개 출력?'))\n",
        "w = int(input('몇개마다 줄바꿈?'))\n",
        "\n",
        "for i in range(n):  # n번 반복\n",
        "  print('*', end='')\n",
        "  if i % w == w -1: # n번 판단\\\n",
        "    print()         # 줄바꿈\n",
        "\n",
        "if n % w:\n",
        "  print()"
      ],
      "metadata": {
        "colab": {
          "base_uri": "https://localhost:8080/"
        },
        "id": "cjlO7ptTX3JZ",
        "outputId": "4e03218f-c3b1-47c7-e47e-875805020b01"
      },
      "execution_count": null,
      "outputs": [
        {
          "output_type": "stream",
          "name": "stdout",
          "text": [
            "*\n",
            "몇개 출력?8\n",
            "몇개마다 줄바꿈?5\n",
            "*****\n",
            "***\n"
          ]
        }
      ]
    },
    {
      "cell_type": "code",
      "source": [
        "# 실습 1-15\n",
        "print('별을 출력합니다.')\n",
        "n = int(input('몇개 출력?'))\n",
        "w = int(input('몇개마다 줄바꿈?'))\n",
        "\n",
        "for _ in range (n // w): # n // w번 반복\n",
        "    print('*'* w)\n",
        "rest = n % w\n",
        "if rest: # if문 판단 1번\n",
        "    print('*'* rest)"
      ],
      "metadata": {
        "colab": {
          "base_uri": "https://localhost:8080/"
        },
        "id": "YgPxJPAnX3LL",
        "outputId": "aefd4e6d-d9c5-4757-9b5d-f54362f76a63"
      },
      "execution_count": null,
      "outputs": [
        {
          "output_type": "stream",
          "name": "stdout",
          "text": [
            "별을 출력합니다.\n",
            "몇개 출력?10\n",
            "몇개마다 줄바꿈?2\n",
            "**\n",
            "**\n",
            "**\n",
            "**\n",
            "**\n"
          ]
        }
      ]
    },
    {
      "cell_type": "code",
      "source": [
        "# 실습 1-16\n",
        "print('1부터 n까지 정수의 합')\n",
        "while True:\n",
        "  n = int(input('n: '))\n",
        "  if n > 0:\n",
        "    break # n이 0보다 커질때까지 반복\n",
        "\n",
        "sum = 0\n",
        "i = 1\n",
        "\n",
        "for i in range(1, n+1):\n",
        "  sum+=i # sum에 i를 더함\n",
        "  i += 1 # i에 1을 더함\n",
        "\n",
        "print(f'1부터 {n}까지 정수의 합은 {sum}')"
      ],
      "metadata": {
        "colab": {
          "base_uri": "https://localhost:8080/"
        },
        "id": "lNouPcQlX3Po",
        "outputId": "e6d0d099-8b22-4b0b-92b1-faedf5a22ce4"
      },
      "execution_count": null,
      "outputs": [
        {
          "output_type": "stream",
          "name": "stdout",
          "text": [
            "1부터 n까지 정수의 합\n",
            "n: 9\n",
            "1부터 9까지 정수의 합은 45\n"
          ]
        }
      ]
    },
    {
      "cell_type": "code",
      "source": [
        "# 실습 1-17\n",
        "# 가로 세로 길이가 정수이고 넓이가 area인 직사각형에서 변의 길이 나열하기\n",
        "\n",
        "area = int(input('직사각형 넓이를 입력:'))\n",
        "\n",
        "for i in range(1, area+1): #1부터 사각형 넓이 계산\n",
        "    if i * i > area: break\n",
        "    if area % i: continue\n",
        "    print(f'{i} x {area // i}')"
      ],
      "metadata": {
        "colab": {
          "base_uri": "https://localhost:8080/"
        },
        "id": "X-MfPZzmX3Sw",
        "outputId": "f5451c2e-dd48-441d-c34f-679dea0734bf"
      },
      "execution_count": null,
      "outputs": [
        {
          "output_type": "stream",
          "name": "stdout",
          "text": [
            "직사각형 넓이를 입력:64\n",
            "1 x 64\n",
            "2 x 32\n",
            "4 x 16\n",
            "8 x 8\n"
          ]
        }
      ]
    },
    {
      "cell_type": "code",
      "source": [
        "# 실습 1-18\n",
        "import random\n",
        "\n",
        "n = int(input('난수의 개수를 입력'))\n",
        "\n",
        "for _ in range(n):\n",
        "  r = random.randint(10,99)\n",
        "  print(r, end=' ')\n",
        "  if r == 13:\n",
        "    print('\\n프로그램 중단')\n",
        "    break\n",
        "else:\n",
        "  print('\\n난수 생성 종료')"
      ],
      "metadata": {
        "id": "wVk8BJi3X3VA",
        "colab": {
          "base_uri": "https://localhost:8080/"
        },
        "outputId": "4390dd8e-5982-4b5e-bd91-b47c4af9bb91"
      },
      "execution_count": 4,
      "outputs": [
        {
          "output_type": "stream",
          "name": "stdout",
          "text": [
            "난수의 개수를 입력5\n",
            "38 77 18 37 97 \n",
            "난수 생성 종료\n"
          ]
        }
      ]
    },
    {
      "cell_type": "code",
      "source": [
        "# 실습1-19\n",
        "\n",
        "for i in range(1, 13):\n",
        "  if i == 8:\n",
        "      continue\n",
        "  print(i, end=' ')\n",
        "print()"
      ],
      "metadata": {
        "id": "A93Rl8VsX3XI",
        "colab": {
          "base_uri": "https://localhost:8080/"
        },
        "outputId": "b0f695ae-7897-483f-8c28-a6441b6cdef5"
      },
      "execution_count": 6,
      "outputs": [
        {
          "output_type": "stream",
          "name": "stdout",
          "text": [
            "1 2 3 4 5 6 7 9 10 11 12 \n"
          ]
        }
      ]
    },
    {
      "cell_type": "code",
      "source": [
        "# 실습 1-20\n",
        "\n",
        "# 1 ~ 12까지 8을 건너뛰는걸 출력하기\n",
        "for i in list(range(1,8)) + list(range(9, 13)):\n",
        "  print(i, end=' ')\n",
        "print()"
      ],
      "metadata": {
        "id": "5xJOFarNX3ZN",
        "colab": {
          "base_uri": "https://localhost:8080/"
        },
        "outputId": "882c97ed-17bb-4899-c88a-eb0449be2221"
      },
      "execution_count": 7,
      "outputs": [
        {
          "output_type": "stream",
          "name": "stdout",
          "text": [
            "1 2 3 4 5 6 7 9 10 11 12 \n"
          ]
        }
      ]
    },
    {
      "cell_type": "code",
      "source": [
        "# 실습 1C-3(보충수업)\n",
        "\n",
        "print('2자리 양수입력')\n",
        "while True:\n",
        "    no = int(input('input: '))\n",
        "    if no >= 10 and no <= 99:\n",
        "        break\n",
        "\n",
        "print(f'입력받은 수는 {no}')\n"
      ],
      "metadata": {
        "id": "iIA7u__ZX3bN",
        "colab": {
          "base_uri": "https://localhost:8080/"
        },
        "outputId": "83085008-03fd-4671-f623-70b327979db2"
      },
      "execution_count": 8,
      "outputs": [
        {
          "output_type": "stream",
          "name": "stdout",
          "text": [
            "2자리 양수입력\n",
            "input: 5\n",
            "input: 10\n",
            "입력받은 수는 10\n"
          ]
        }
      ]
    },
    {
      "cell_type": "code",
      "source": [
        "# 실습 1-21\n",
        "\n",
        "# 구구단 곱셈표 출력\n",
        "\n",
        "print('-'*35)\n",
        "for i in range(1, 10):              # 행부분\n",
        "    for j in range(1, 10):          # 열부분\n",
        "        print(f'{i*j:3}', end=' ')  # 값을 3자리로 표현\n",
        "    print()                         # 행변경\n",
        "print('-'*35)"
      ],
      "metadata": {
        "id": "P8ZFoGYKX3dY",
        "colab": {
          "base_uri": "https://localhost:8080/"
        },
        "outputId": "f8494d65-d04d-4d59-eddf-b85194924885"
      },
      "execution_count": 15,
      "outputs": [
        {
          "output_type": "stream",
          "name": "stdout",
          "text": [
            "-----------------------------------\n",
            "  1   2   3   4   5   6   7   8   9 \n",
            "  2   4   6   8  10  12  14  16  18 \n",
            "  3   6   9  12  15  18  21  24  27 \n",
            "  4   8  12  16  20  24  28  32  36 \n",
            "  5  10  15  20  25  30  35  40  45 \n",
            "  6  12  18  24  30  36  42  48  54 \n",
            "  7  14  21  28  35  42  49  56  63 \n",
            "  8  16  24  32  40  48  56  64  72 \n",
            "  9  18  27  36  45  54  63  72  81 \n",
            "-----------------------------------\n"
          ]
        }
      ]
    },
    {
      "cell_type": "code",
      "source": [
        "# 실습 1-22\n",
        "# 왼쪽 아래가 직각인 이등변삼각형 출력\n",
        "\n",
        "print('이등변 삼각형')\n",
        "n = int(input('길이는?: '))\n",
        "for i in range(n):\n",
        "    for j in range(i+1):\n",
        "        print('*', end='')\n",
        "    print()"
      ],
      "metadata": {
        "id": "CLlfk-yXX3fE",
        "colab": {
          "base_uri": "https://localhost:8080/"
        },
        "outputId": "b3b569ea-2d0b-4335-dc8c-db361aa0785d"
      },
      "execution_count": 16,
      "outputs": [
        {
          "output_type": "stream",
          "name": "stdout",
          "text": [
            "이등변 삼각형\n",
            "길이는?: 3\n",
            "*\n",
            "**\n",
            "***\n"
          ]
        }
      ]
    },
    {
      "cell_type": "code",
      "source": [
        "# 1-23\n",
        "\n",
        "# 오른쪽\n",
        "\n",
        "n = int(input('길이?'))\n",
        "for i in range(n):\n",
        "    for _ in range(n-i-1):    # 공백출력부분\n",
        "          print(' ', end='')\n",
        "    for _ in range(i+1):      # 별 출력부분\n",
        "          print('*', end='')\n",
        "    print()"
      ],
      "metadata": {
        "id": "ORKiQQ7SX3hE",
        "colab": {
          "base_uri": "https://localhost:8080/"
        },
        "outputId": "8ed6216c-09ae-4fe8-9571-e82c0b480d2a"
      },
      "execution_count": 17,
      "outputs": [
        {
          "output_type": "stream",
          "name": "stdout",
          "text": [
            "길이?5\n",
            "    *\n",
            "   **\n",
            "  ***\n",
            " ****\n",
            "*****\n"
          ]
        }
      ]
    },
    {
      "cell_type": "code",
      "source": [
        "# 실습 1C-4(보충수업)\n",
        "\n",
        "# 함수 내부 외부에서 정의한 변수와 객체의 식별번호를 출력\n",
        "n = 1 # 전역변수(함수내/외부에서 사용)\n",
        "def put_id():\n",
        "    x = 1 # 지역함수\n",
        "    print(f'id(x)={id(x)}')\n",
        "\n",
        "print(f'idf(1) = {id(1)}')\n",
        "print(f'idf(n) = {id(n)}')\n",
        "put_id()\n",
        "\n",
        "for i in range(1, 101):\n",
        "  print(f'i={i:3} id(i)={id(i)}')"
      ],
      "metadata": {
        "id": "LkJtRDQ-X3i5",
        "colab": {
          "base_uri": "https://localhost:8080/"
        },
        "outputId": "5b0b6bb7-7d1e-4dbc-b433-160c8b3e13eb"
      },
      "execution_count": 19,
      "outputs": [
        {
          "output_type": "stream",
          "name": "stdout",
          "text": [
            "idf(1) = 10757736\n",
            "idf(n) = 10757736\n",
            "id(x)=10757736\n",
            "i=  1 id(i)=10757736\n",
            "i=  2 id(i)=10757768\n",
            "i=  3 id(i)=10757800\n",
            "i=  4 id(i)=10757832\n",
            "i=  5 id(i)=10757864\n",
            "i=  6 id(i)=10757896\n",
            "i=  7 id(i)=10757928\n",
            "i=  8 id(i)=10757960\n",
            "i=  9 id(i)=10757992\n",
            "i= 10 id(i)=10758024\n",
            "i= 11 id(i)=10758056\n",
            "i= 12 id(i)=10758088\n",
            "i= 13 id(i)=10758120\n",
            "i= 14 id(i)=10758152\n",
            "i= 15 id(i)=10758184\n",
            "i= 16 id(i)=10758216\n",
            "i= 17 id(i)=10758248\n",
            "i= 18 id(i)=10758280\n",
            "i= 19 id(i)=10758312\n",
            "i= 20 id(i)=10758344\n",
            "i= 21 id(i)=10758376\n",
            "i= 22 id(i)=10758408\n",
            "i= 23 id(i)=10758440\n",
            "i= 24 id(i)=10758472\n",
            "i= 25 id(i)=10758504\n",
            "i= 26 id(i)=10758536\n",
            "i= 27 id(i)=10758568\n",
            "i= 28 id(i)=10758600\n",
            "i= 29 id(i)=10758632\n",
            "i= 30 id(i)=10758664\n",
            "i= 31 id(i)=10758696\n",
            "i= 32 id(i)=10758728\n",
            "i= 33 id(i)=10758760\n",
            "i= 34 id(i)=10758792\n",
            "i= 35 id(i)=10758824\n",
            "i= 36 id(i)=10758856\n",
            "i= 37 id(i)=10758888\n",
            "i= 38 id(i)=10758920\n",
            "i= 39 id(i)=10758952\n",
            "i= 40 id(i)=10758984\n",
            "i= 41 id(i)=10759016\n",
            "i= 42 id(i)=10759048\n",
            "i= 43 id(i)=10759080\n",
            "i= 44 id(i)=10759112\n",
            "i= 45 id(i)=10759144\n",
            "i= 46 id(i)=10759176\n",
            "i= 47 id(i)=10759208\n",
            "i= 48 id(i)=10759240\n",
            "i= 49 id(i)=10759272\n",
            "i= 50 id(i)=10759304\n",
            "i= 51 id(i)=10759336\n",
            "i= 52 id(i)=10759368\n",
            "i= 53 id(i)=10759400\n",
            "i= 54 id(i)=10759432\n",
            "i= 55 id(i)=10759464\n",
            "i= 56 id(i)=10759496\n",
            "i= 57 id(i)=10759528\n",
            "i= 58 id(i)=10759560\n",
            "i= 59 id(i)=10759592\n",
            "i= 60 id(i)=10759624\n",
            "i= 61 id(i)=10759656\n",
            "i= 62 id(i)=10759688\n",
            "i= 63 id(i)=10759720\n",
            "i= 64 id(i)=10759752\n",
            "i= 65 id(i)=10759784\n",
            "i= 66 id(i)=10759816\n",
            "i= 67 id(i)=10759848\n",
            "i= 68 id(i)=10759880\n",
            "i= 69 id(i)=10759912\n",
            "i= 70 id(i)=10759944\n",
            "i= 71 id(i)=10759976\n",
            "i= 72 id(i)=10760008\n",
            "i= 73 id(i)=10760040\n",
            "i= 74 id(i)=10760072\n",
            "i= 75 id(i)=10760104\n",
            "i= 76 id(i)=10760136\n",
            "i= 77 id(i)=10760168\n",
            "i= 78 id(i)=10760200\n",
            "i= 79 id(i)=10760232\n",
            "i= 80 id(i)=10760264\n",
            "i= 81 id(i)=10760296\n",
            "i= 82 id(i)=10760328\n",
            "i= 83 id(i)=10760360\n",
            "i= 84 id(i)=10760392\n",
            "i= 85 id(i)=10760424\n",
            "i= 86 id(i)=10760456\n",
            "i= 87 id(i)=10760488\n",
            "i= 88 id(i)=10760520\n",
            "i= 89 id(i)=10760552\n",
            "i= 90 id(i)=10760584\n",
            "i= 91 id(i)=10760616\n",
            "i= 92 id(i)=10760648\n",
            "i= 93 id(i)=10760680\n",
            "i= 94 id(i)=10760712\n",
            "i= 95 id(i)=10760744\n",
            "i= 96 id(i)=10760776\n",
            "i= 97 id(i)=10760808\n",
            "i= 98 id(i)=10760840\n",
            "i= 99 id(i)=10760872\n",
            "i=100 id(i)=10760904\n"
          ]
        }
      ]
    },
    {
      "cell_type": "code",
      "source": [],
      "metadata": {
        "id": "JwTgwixyd0zK"
      },
      "execution_count": null,
      "outputs": []
    },
    {
      "cell_type": "code",
      "source": [],
      "metadata": {
        "id": "W4L0P2JDd03B"
      },
      "execution_count": null,
      "outputs": []
    },
    {
      "cell_type": "code",
      "source": [],
      "metadata": {
        "id": "Yobz0028d05I"
      },
      "execution_count": null,
      "outputs": []
    },
    {
      "cell_type": "code",
      "source": [],
      "metadata": {
        "id": "8dkx_0PJd07H"
      },
      "execution_count": null,
      "outputs": []
    },
    {
      "cell_type": "code",
      "source": [],
      "metadata": {
        "id": "kqV5E0Zld09J"
      },
      "execution_count": null,
      "outputs": []
    },
    {
      "cell_type": "code",
      "source": [],
      "metadata": {
        "id": "rJg-qYQKd0_G"
      },
      "execution_count": null,
      "outputs": []
    },
    {
      "cell_type": "code",
      "source": [],
      "metadata": {
        "id": "LNVxMaFpX3lE"
      },
      "execution_count": null,
      "outputs": []
    },
    {
      "cell_type": "code",
      "source": [],
      "metadata": {
        "id": "AcBhkmA7X3mz"
      },
      "execution_count": null,
      "outputs": []
    },
    {
      "cell_type": "code",
      "execution_count": null,
      "metadata": {
        "id": "MZHbQUeJXxL3"
      },
      "outputs": [],
      "source": []
    }
  ]
}